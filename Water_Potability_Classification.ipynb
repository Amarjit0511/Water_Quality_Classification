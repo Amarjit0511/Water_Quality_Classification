{
 "cells": [
  {
   "cell_type": "code",
   "execution_count": 276,
   "id": "e32a9fdb",
   "metadata": {},
   "outputs": [],
   "source": [
    "import pandas as pd\n",
    "import matplotlib.pyplot as plt"
   ]
  },
  {
   "cell_type": "code",
   "execution_count": 277,
   "id": "a12f442b",
   "metadata": {},
   "outputs": [],
   "source": [
    "from sklearn.preprocessing import StandardScaler\n",
    "from sklearn.model_selection import train_test_split\n",
    "from sklearn.linear_model import LogisticRegression\n",
    "from sklearn.svm import SVC\n",
    "import seaborn as sns"
   ]
  },
  {
   "cell_type": "code",
   "execution_count": 432,
   "id": "7da01819",
   "metadata": {},
   "outputs": [],
   "source": [
    "from sklearn.tree import DecisionTreeClassifier\n",
    "from sklearn.ensemble import RandomForestClassifier\n",
    "from sklearn.neighbors import KNeighborsClassifier\n",
    "from sklearn.metrics import confusion_matrix, accuracy_score\n",
    "from sklearn.metrics import precision_score, recall_score, f1_score"
   ]
  },
  {
   "cell_type": "code",
   "execution_count": 433,
   "id": "2fb596ea",
   "metadata": {},
   "outputs": [
    {
     "data": {
      "text/html": [
       "<div>\n",
       "<style scoped>\n",
       "    .dataframe tbody tr th:only-of-type {\n",
       "        vertical-align: middle;\n",
       "    }\n",
       "\n",
       "    .dataframe tbody tr th {\n",
       "        vertical-align: top;\n",
       "    }\n",
       "\n",
       "    .dataframe thead th {\n",
       "        text-align: right;\n",
       "    }\n",
       "</style>\n",
       "<table border=\"1\" class=\"dataframe\">\n",
       "  <thead>\n",
       "    <tr style=\"text-align: right;\">\n",
       "      <th></th>\n",
       "      <th>ph</th>\n",
       "      <th>Hardness</th>\n",
       "      <th>Solids</th>\n",
       "      <th>Chloramines</th>\n",
       "      <th>Sulfate</th>\n",
       "      <th>Conductivity</th>\n",
       "      <th>Organic_carbon</th>\n",
       "      <th>Trihalomethanes</th>\n",
       "      <th>Turbidity</th>\n",
       "      <th>Potability</th>\n",
       "    </tr>\n",
       "  </thead>\n",
       "  <tbody>\n",
       "    <tr>\n",
       "      <th>0</th>\n",
       "      <td>NaN</td>\n",
       "      <td>204.890455</td>\n",
       "      <td>20791.318981</td>\n",
       "      <td>7.300212</td>\n",
       "      <td>368.516441</td>\n",
       "      <td>564.308654</td>\n",
       "      <td>10.379783</td>\n",
       "      <td>86.990970</td>\n",
       "      <td>2.963135</td>\n",
       "      <td>0</td>\n",
       "    </tr>\n",
       "    <tr>\n",
       "      <th>1</th>\n",
       "      <td>3.716080</td>\n",
       "      <td>129.422921</td>\n",
       "      <td>18630.057858</td>\n",
       "      <td>6.635246</td>\n",
       "      <td>NaN</td>\n",
       "      <td>592.885359</td>\n",
       "      <td>15.180013</td>\n",
       "      <td>56.329076</td>\n",
       "      <td>4.500656</td>\n",
       "      <td>0</td>\n",
       "    </tr>\n",
       "    <tr>\n",
       "      <th>2</th>\n",
       "      <td>8.099124</td>\n",
       "      <td>224.236259</td>\n",
       "      <td>19909.541732</td>\n",
       "      <td>9.275884</td>\n",
       "      <td>NaN</td>\n",
       "      <td>418.606213</td>\n",
       "      <td>16.868637</td>\n",
       "      <td>66.420093</td>\n",
       "      <td>3.055934</td>\n",
       "      <td>0</td>\n",
       "    </tr>\n",
       "    <tr>\n",
       "      <th>3</th>\n",
       "      <td>8.316766</td>\n",
       "      <td>214.373394</td>\n",
       "      <td>22018.417441</td>\n",
       "      <td>8.059332</td>\n",
       "      <td>356.886136</td>\n",
       "      <td>363.266516</td>\n",
       "      <td>18.436524</td>\n",
       "      <td>100.341674</td>\n",
       "      <td>4.628771</td>\n",
       "      <td>0</td>\n",
       "    </tr>\n",
       "    <tr>\n",
       "      <th>4</th>\n",
       "      <td>9.092223</td>\n",
       "      <td>181.101509</td>\n",
       "      <td>17978.986339</td>\n",
       "      <td>6.546600</td>\n",
       "      <td>310.135738</td>\n",
       "      <td>398.410813</td>\n",
       "      <td>11.558279</td>\n",
       "      <td>31.997993</td>\n",
       "      <td>4.075075</td>\n",
       "      <td>0</td>\n",
       "    </tr>\n",
       "  </tbody>\n",
       "</table>\n",
       "</div>"
      ],
      "text/plain": [
       "         ph    Hardness        Solids  Chloramines     Sulfate  Conductivity  \\\n",
       "0       NaN  204.890455  20791.318981     7.300212  368.516441    564.308654   \n",
       "1  3.716080  129.422921  18630.057858     6.635246         NaN    592.885359   \n",
       "2  8.099124  224.236259  19909.541732     9.275884         NaN    418.606213   \n",
       "3  8.316766  214.373394  22018.417441     8.059332  356.886136    363.266516   \n",
       "4  9.092223  181.101509  17978.986339     6.546600  310.135738    398.410813   \n",
       "\n",
       "   Organic_carbon  Trihalomethanes  Turbidity  Potability  \n",
       "0       10.379783        86.990970   2.963135           0  \n",
       "1       15.180013        56.329076   4.500656           0  \n",
       "2       16.868637        66.420093   3.055934           0  \n",
       "3       18.436524       100.341674   4.628771           0  \n",
       "4       11.558279        31.997993   4.075075           0  "
      ]
     },
     "execution_count": 433,
     "metadata": {},
     "output_type": "execute_result"
    }
   ],
   "source": [
    "data = pd.read_csv('water_potability.csv')\n",
    "data.head()"
   ]
  },
  {
   "cell_type": "code",
   "execution_count": 434,
   "id": "505e701b",
   "metadata": {},
   "outputs": [
    {
     "data": {
      "text/plain": [
       "ph                  True\n",
       "Hardness           False\n",
       "Solids             False\n",
       "Chloramines        False\n",
       "Sulfate             True\n",
       "Conductivity       False\n",
       "Organic_carbon     False\n",
       "Trihalomethanes     True\n",
       "Turbidity          False\n",
       "Potability         False\n",
       "dtype: bool"
      ]
     },
     "execution_count": 434,
     "metadata": {},
     "output_type": "execute_result"
    }
   ],
   "source": [
    "data.isnull().any()"
   ]
  },
  {
   "cell_type": "markdown",
   "id": "e04cee37",
   "metadata": {},
   "source": [
    "# Data Preprocessing"
   ]
  },
  {
   "cell_type": "code",
   "execution_count": 435,
   "id": "588c0224",
   "metadata": {},
   "outputs": [
    {
     "data": {
      "text/plain": [
       "ph                 False\n",
       "Hardness           False\n",
       "Solids             False\n",
       "Chloramines        False\n",
       "Sulfate            False\n",
       "Conductivity       False\n",
       "Organic_carbon     False\n",
       "Trihalomethanes    False\n",
       "Turbidity          False\n",
       "Potability         False\n",
       "dtype: bool"
      ]
     },
     "execution_count": 435,
     "metadata": {},
     "output_type": "execute_result"
    }
   ],
   "source": [
    "def missing_value(data,col_data):\n",
    "    data[col_data] = data[col_data].fillna(data[col_data].mean())\n",
    "missing_value(data,'ph')\n",
    "missing_value(data,'Sulfate')\n",
    "missing_value(data,'Trihalomethanes')\n",
    "data.isnull().any()"
   ]
  },
  {
   "cell_type": "code",
   "execution_count": 436,
   "id": "0487c551",
   "metadata": {},
   "outputs": [
    {
     "data": {
      "text/html": [
       "<div>\n",
       "<style scoped>\n",
       "    .dataframe tbody tr th:only-of-type {\n",
       "        vertical-align: middle;\n",
       "    }\n",
       "\n",
       "    .dataframe tbody tr th {\n",
       "        vertical-align: top;\n",
       "    }\n",
       "\n",
       "    .dataframe thead th {\n",
       "        text-align: right;\n",
       "    }\n",
       "</style>\n",
       "<table border=\"1\" class=\"dataframe\">\n",
       "  <thead>\n",
       "    <tr style=\"text-align: right;\">\n",
       "      <th></th>\n",
       "      <th>ph</th>\n",
       "      <th>Hardness</th>\n",
       "      <th>Solids</th>\n",
       "      <th>Chloramines</th>\n",
       "      <th>Sulfate</th>\n",
       "      <th>Conductivity</th>\n",
       "      <th>Organic_carbon</th>\n",
       "      <th>Trihalomethanes</th>\n",
       "      <th>Turbidity</th>\n",
       "      <th>Potability</th>\n",
       "    </tr>\n",
       "  </thead>\n",
       "  <tbody>\n",
       "    <tr>\n",
       "      <th>count</th>\n",
       "      <td>3276.000000</td>\n",
       "      <td>3276.000000</td>\n",
       "      <td>3276.000000</td>\n",
       "      <td>3276.000000</td>\n",
       "      <td>3276.000000</td>\n",
       "      <td>3276.000000</td>\n",
       "      <td>3276.000000</td>\n",
       "      <td>3276.000000</td>\n",
       "      <td>3276.000000</td>\n",
       "      <td>3276.000000</td>\n",
       "    </tr>\n",
       "    <tr>\n",
       "      <th>mean</th>\n",
       "      <td>7.080795</td>\n",
       "      <td>196.369496</td>\n",
       "      <td>22014.092526</td>\n",
       "      <td>7.122277</td>\n",
       "      <td>333.775777</td>\n",
       "      <td>426.205111</td>\n",
       "      <td>14.284970</td>\n",
       "      <td>66.396293</td>\n",
       "      <td>3.966786</td>\n",
       "      <td>0.390110</td>\n",
       "    </tr>\n",
       "    <tr>\n",
       "      <th>std</th>\n",
       "      <td>1.469956</td>\n",
       "      <td>32.879761</td>\n",
       "      <td>8768.570828</td>\n",
       "      <td>1.583085</td>\n",
       "      <td>36.142612</td>\n",
       "      <td>80.824064</td>\n",
       "      <td>3.308162</td>\n",
       "      <td>15.769881</td>\n",
       "      <td>0.780382</td>\n",
       "      <td>0.487849</td>\n",
       "    </tr>\n",
       "    <tr>\n",
       "      <th>min</th>\n",
       "      <td>0.000000</td>\n",
       "      <td>47.432000</td>\n",
       "      <td>320.942611</td>\n",
       "      <td>0.352000</td>\n",
       "      <td>129.000000</td>\n",
       "      <td>181.483754</td>\n",
       "      <td>2.200000</td>\n",
       "      <td>0.738000</td>\n",
       "      <td>1.450000</td>\n",
       "      <td>0.000000</td>\n",
       "    </tr>\n",
       "    <tr>\n",
       "      <th>25%</th>\n",
       "      <td>6.277673</td>\n",
       "      <td>176.850538</td>\n",
       "      <td>15666.690297</td>\n",
       "      <td>6.127421</td>\n",
       "      <td>317.094638</td>\n",
       "      <td>365.734414</td>\n",
       "      <td>12.065801</td>\n",
       "      <td>56.647656</td>\n",
       "      <td>3.439711</td>\n",
       "      <td>0.000000</td>\n",
       "    </tr>\n",
       "    <tr>\n",
       "      <th>50%</th>\n",
       "      <td>7.080795</td>\n",
       "      <td>196.967627</td>\n",
       "      <td>20927.833607</td>\n",
       "      <td>7.130299</td>\n",
       "      <td>333.775777</td>\n",
       "      <td>421.884968</td>\n",
       "      <td>14.218338</td>\n",
       "      <td>66.396293</td>\n",
       "      <td>3.955028</td>\n",
       "      <td>0.000000</td>\n",
       "    </tr>\n",
       "    <tr>\n",
       "      <th>75%</th>\n",
       "      <td>7.870050</td>\n",
       "      <td>216.667456</td>\n",
       "      <td>27332.762127</td>\n",
       "      <td>8.114887</td>\n",
       "      <td>350.385756</td>\n",
       "      <td>481.792304</td>\n",
       "      <td>16.557652</td>\n",
       "      <td>76.666609</td>\n",
       "      <td>4.500320</td>\n",
       "      <td>1.000000</td>\n",
       "    </tr>\n",
       "    <tr>\n",
       "      <th>max</th>\n",
       "      <td>14.000000</td>\n",
       "      <td>323.124000</td>\n",
       "      <td>61227.196008</td>\n",
       "      <td>13.127000</td>\n",
       "      <td>481.030642</td>\n",
       "      <td>753.342620</td>\n",
       "      <td>28.300000</td>\n",
       "      <td>124.000000</td>\n",
       "      <td>6.739000</td>\n",
       "      <td>1.000000</td>\n",
       "    </tr>\n",
       "  </tbody>\n",
       "</table>\n",
       "</div>"
      ],
      "text/plain": [
       "                ph     Hardness        Solids  Chloramines      Sulfate  \\\n",
       "count  3276.000000  3276.000000   3276.000000  3276.000000  3276.000000   \n",
       "mean      7.080795   196.369496  22014.092526     7.122277   333.775777   \n",
       "std       1.469956    32.879761   8768.570828     1.583085    36.142612   \n",
       "min       0.000000    47.432000    320.942611     0.352000   129.000000   \n",
       "25%       6.277673   176.850538  15666.690297     6.127421   317.094638   \n",
       "50%       7.080795   196.967627  20927.833607     7.130299   333.775777   \n",
       "75%       7.870050   216.667456  27332.762127     8.114887   350.385756   \n",
       "max      14.000000   323.124000  61227.196008    13.127000   481.030642   \n",
       "\n",
       "       Conductivity  Organic_carbon  Trihalomethanes    Turbidity   Potability  \n",
       "count   3276.000000     3276.000000      3276.000000  3276.000000  3276.000000  \n",
       "mean     426.205111       14.284970        66.396293     3.966786     0.390110  \n",
       "std       80.824064        3.308162        15.769881     0.780382     0.487849  \n",
       "min      181.483754        2.200000         0.738000     1.450000     0.000000  \n",
       "25%      365.734414       12.065801        56.647656     3.439711     0.000000  \n",
       "50%      421.884968       14.218338        66.396293     3.955028     0.000000  \n",
       "75%      481.792304       16.557652        76.666609     4.500320     1.000000  \n",
       "max      753.342620       28.300000       124.000000     6.739000     1.000000  "
      ]
     },
     "execution_count": 436,
     "metadata": {},
     "output_type": "execute_result"
    }
   ],
   "source": [
    "data.describe()"
   ]
  },
  {
   "cell_type": "code",
   "execution_count": 437,
   "id": "89475ab6",
   "metadata": {},
   "outputs": [],
   "source": [
    "x = data.iloc[:,:-1]\n",
    "y = data.iloc[:,-1]\n",
    "x_scaling = StandardScaler().fit_transform(x)\n",
    "x_train, x_test, y_train, y_test = train_test_split(x_scaling, y, test_size=0.33)"
   ]
  },
  {
   "cell_type": "markdown",
   "id": "96394a79",
   "metadata": {},
   "source": [
    "# Decision Tree Classifier"
   ]
  },
  {
   "cell_type": "code",
   "execution_count": 440,
   "id": "07321b93",
   "metadata": {},
   "outputs": [
    {
     "name": "stdout",
     "output_type": "stream",
     "text": [
      "acc DT = 64.69500924214418\n",
      "Precision DT = 0.5238095238095238\n",
      "Recall DT = 0.22564102564102564\n",
      "F1 DT = 0.31541218637992835\n"
     ]
    }
   ],
   "source": [
    "dt = DecisionTreeClassifier(max_leaf_nodes=6).fit(x_train,y_train)\n",
    "y_pred_dt = dt.predict(x_test)\n",
    "print('acc DT = {}'.format(accuracy_score(y_test,y_pred_dt)*100))\n",
    "print('Precision DT = {}'.format(precision_score(y_test,y_pred_dt)))\n",
    "print('Recall DT = {}'.format(recall_score(y_test,y_pred_dt)))\n",
    "print('F1 DT = {}'.format(f1_score(y_test,y_pred_dt)))"
   ]
  },
  {
   "cell_type": "code",
   "execution_count": 450,
   "id": "0d30c660",
   "metadata": {},
   "outputs": [
    {
     "data": {
      "text/plain": [
       "<AxesSubplot:>"
      ]
     },
     "execution_count": 450,
     "metadata": {},
     "output_type": "execute_result"
    },
    {
     "data": {
      "image/png": "[encoded data removed]",
      "text/plain": [
       "<Figure size 432x288 with 2 Axes>"
      ]
     },
     "metadata": {
      "needs_background": "light"
     },
     "output_type": "display_data"
    }
   ],
   "source": [
    "conf = confusion_matrix(y_test,y_pred_dt)\n",
    "sns.heatmap(conf,annot=True,fmt='d')"
   ]
  },
  {
   "cell_type": "markdown",
   "id": "1d4a6ee0",
   "metadata": {},
   "source": [
    "# Support Vector Machines"
   ]
  },
  {
   "cell_type": "code",
   "execution_count": 442,
   "id": "710137f0",
   "metadata": {},
   "outputs": [
    {
     "name": "stdout",
     "output_type": "stream",
     "text": [
      "acc svc poly = 67.00554528650648\n",
      "Precision svc poly = 0.6153846153846154\n",
      "Recall svc poly = 0.22564102564102564\n",
      "f1 svc poly = 0.3302063789868668\n"
     ]
    }
   ],
   "source": [
    "svc_poly = SVC(kernel='poly',degree=6).fit(x_train,y_train)\n",
    "y_pred_svc_poly = svc_poly.predict(x_test)\n",
    "print('acc svc poly = {}'.format(accuracy_score(y_test,y_pred_svc_poly)*100))\n",
    "print('Precision svc poly = {}'.format(precision_score(y_test,y_pred_svc_poly)))\n",
    "print('Recall svc poly = {}'.format(recall_score(y_test,y_pred_svc_poly)))\n",
    "print('f1 svc poly = {}'.format(f1_score(y_test,y_pred_svc_poly)))"
   ]
  },
  {
   "cell_type": "code",
   "execution_count": 286,
   "id": "6c30141e",
   "metadata": {},
   "outputs": [
    {
     "data": {
      "text/plain": [
       "<AxesSubplot:>"
      ]
     },
     "execution_count": 286,
     "metadata": {},
     "output_type": "execute_result"
    },
    {
     "data": {
      "image/png": "[encoded data removed]",
      "text/plain": [
       "<Figure size 432x288 with 2 Axes>"
      ]
     },
     "metadata": {
      "needs_background": "light"
     },
     "output_type": "display_data"
    }
   ],
   "source": [
    "conf = confusion_matrix(y_test,y_pred_svc_poly)\n",
    "sns.heatmap(conf,annot=True,fmt='d')"
   ]
  },
  {
   "cell_type": "markdown",
   "id": "599c9417",
   "metadata": {},
   "source": [
    "# Random Forest Classifier"
   ]
  },
  {
   "cell_type": "code",
   "execution_count": 444,
   "id": "e858cddc",
   "metadata": {},
   "outputs": [
    {
     "name": "stdout",
     "output_type": "stream",
     "text": [
      "acc rf = 68.02218114602587\n",
      "Precision rf = 0.6571428571428571\n",
      "Recall rf = 0.2358974358974359\n",
      "f1 rf = 0.3471698113207547\n"
     ]
    }
   ],
   "source": [
    "rf = RandomForestClassifier(criterion='gini',max_depth=10, random_state=0).fit(x_train,y_train)\n",
    "y_pred_rf = rf.predict(x_test) \n",
    "print('acc rf = {}'.format(accuracy_score(y_test,y_pred_rf)*100))\n",
    "print('Precision rf = {}'.format(precision_score(y_test,y_pred_rf)))\n",
    "print('Recall rf = {}'.format(recall_score(y_test,y_pred_rf)))\n",
    "print('f1 rf = {}'.format(f1_score(y_test,y_pred_rf)))"
   ]
  },
  {
   "cell_type": "code",
   "execution_count": 288,
   "id": "40c42a44",
   "metadata": {},
   "outputs": [
    {
     "data": {
      "text/plain": [
       "<AxesSubplot:>"
      ]
     },
     "execution_count": 288,
     "metadata": {},
     "output_type": "execute_result"
    },
    {
     "data": {
      "image/png": "[encoded data removed]",
      "text/plain": [
       "<Figure size 432x288 with 2 Axes>"
      ]
     },
     "metadata": {
      "needs_background": "light"
     },
     "output_type": "display_data"
    }
   ],
   "source": [
    "conf = confusion_matrix(y_test,y_pred_rf)\n",
    "sns.heatmap(conf,annot=True,fmt='d')"
   ]
  },
  {
   "cell_type": "markdown",
   "id": "2d057ff5",
   "metadata": {},
   "source": [
    "# Ensembling"
   ]
  },
  {
   "cell_type": "code",
   "execution_count": 449,
   "id": "b87d90cc",
   "metadata": {},
   "outputs": [
    {
     "name": "stdout",
     "output_type": "stream",
     "text": [
      "Accuracy Score: 66.6358595194085\n",
      "Precision Score: 0.5767195767195767\n",
      "Recall: 0.2794871794871795\n",
      "f1 score: 0.3765112262521589\n"
     ]
    }
   ],
   "source": [
    "from sklearn.ensemble import VotingClassifier\n",
    "clf1=DecisionTreeClassifier()\n",
    "clf2=SVC()\n",
    "clf3=RandomForestClassifier()\n",
    "\n",
    "eclf1=VotingClassifier(estimators=[('Decision Tree Classifier', clf1), ('SVM', clf2), ('RFC', clf3)], voting='hard')\n",
    "eclf1.fit(x_train, y_train)\n",
    "predictions=eclf1.predict(x_test)\n",
    "print(\"Accuracy Score:\",accuracy_score(y_test, predictions)*100)\n",
    "print(\"Precision Score:\", precision_score(y_test, predictions))\n",
    "print(\"Recall:\", recall_score(y_test, predictions))\n",
    "print(\"f1 score:\", f1_score(y_test, predictions))"
   ]
  },
  {
   "cell_type": "code",
   "execution_count": null,
   "id": "104d36c7",
   "metadata": {},
   "outputs": [],
   "source": [
    "import matplotlib.pyplot as plt\n",
    "plt.figure(figsize=(7,5))\n",
    "y=['Accuracy Score','Precision Score', 'Accuracy (60:40)', 'Accuracy (50:50)']\n",
    " \n",
    "# getting values against each value of y\n",
    "x=[acc1, acc2, acc3, acc4]\n",
    "plt.bar(y, x)\n",
    " \n",
    "# setting label of y-axis\n",
    "plt.ylabel(\"Tuning Parameters\", fontweight='bold', color = 'black', fontsize='20')\n",
    " \n",
    "# setting label of x-axis\n",
    "plt.xlabel(\"Accuracy\", fontweight='bold', color = 'black', fontsize='20')\n",
    "plt.title(\"Accuracy on changing train, test ratio in SVC\", fontweight='bold', color = 'red', fontsize='24')\n",
    "plt.show()"
   ]
  },
  {
   "cell_type": "markdown",
   "id": "8aaf4569",
   "metadata": {},
   "source": [
    "# Hyperparameter Tuning"
   ]
  },
  {
   "cell_type": "markdown",
   "id": "a78c9914",
   "metadata": {},
   "source": [
    "## Tuning Decision Tree"
   ]
  },
  {
   "cell_type": "code",
   "execution_count": 460,
   "id": "2271392d",
   "metadata": {},
   "outputs": [],
   "source": [
    "x = data.iloc[:,:-1]\n",
    "y = data.iloc[:,-1]\n",
    "x_scaling = StandardScaler().fit_transform(x)"
   ]
  },
  {
   "cell_type": "markdown",
   "id": "eb3cb5d7",
   "metadata": {},
   "source": [
    "### Changing train, test ratio to analyse change in accuracy"
   ]
  },
  {
   "cell_type": "code",
   "execution_count": 461,
   "id": "c250fbe0",
   "metadata": {},
   "outputs": [
    {
     "data": {
      "text/plain": [
       "58.993902439024396"
      ]
     },
     "execution_count": 461,
     "metadata": {},
     "output_type": "execute_result"
    }
   ],
   "source": [
    "x_train, x_test, y_train, y_test = train_test_split(x_scaling, y, test_size=0.2)\n",
    "t1=DecisionTreeClassifier(criterion='entropy', max_depth=3, random_state=0).fit(x_train,y_train)\n",
    "y_pred_t1 = t1.predict(x_test)\n",
    "dtacc1=accuracy_score(y_test,y_pred_t1)*100\n",
    "dtacc1"
   ]
  },
  {
   "cell_type": "code",
   "execution_count": 462,
   "id": "16f38ae0",
   "metadata": {},
   "outputs": [
    {
     "data": {
      "text/plain": [
       "62.05493387589013"
      ]
     },
     "execution_count": 462,
     "metadata": {},
     "output_type": "execute_result"
    }
   ],
   "source": [
    "x_train, x_test, y_train, y_test = train_test_split(x_scaling, y, test_size=0.3)\n",
    "t2=DecisionTreeClassifier(criterion='entropy', max_depth=3, random_state=0).fit(x_train,y_train)\n",
    "y_pred_t2 = t2.predict(x_test)\n",
    "dtacc2=accuracy_score(y_test,y_pred_t2)*100\n",
    "dtacc2"
   ]
  },
  {
   "cell_type": "code",
   "execution_count": 463,
   "id": "4de6db57",
   "metadata": {},
   "outputs": [
    {
     "data": {
      "text/plain": [
       "63.310450038138825"
      ]
     },
     "execution_count": 463,
     "metadata": {},
     "output_type": "execute_result"
    }
   ],
   "source": [
    "x_train, x_test, y_train, y_test = train_test_split(x_scaling, y, test_size=0.4)\n",
    "t3=DecisionTreeClassifier(criterion='entropy', max_depth=3, random_state=0).fit(x_train,y_train)\n",
    "y_pred_t3 = t3.predict(x_test)\n",
    "dtacc3=accuracy_score(y_test,y_pred_t3)*100\n",
    "dtacc3"
   ]
  },
  {
   "cell_type": "code",
   "execution_count": 464,
   "id": "48aed541",
   "metadata": {},
   "outputs": [
    {
     "data": {
      "image/png": "[encoded data removed]",
      "text/plain": [
       "<Figure size 504x360 with 1 Axes>"
      ]
     },
     "metadata": {
      "needs_background": "light"
     },
     "output_type": "display_data"
    }
   ],
   "source": [
    "import matplotlib.pyplot as plt\n",
    "plt.figure(figsize=(7,5))\n",
    "y=['Accuracy (80:20)','Accuracy (70:30)', 'Accuracy (60:40)']\n",
    " \n",
    "# getting values against each value of y\n",
    "x=[dtacc1, dtacc2, dtacc3]\n",
    "plt.bar(y, x)\n",
    " \n",
    "# setting label of y-axis\n",
    "plt.ylabel(\"Tuning Parameters\", fontweight='bold', color = 'black', fontsize='20')\n",
    " \n",
    "# setting label of x-axis\n",
    "plt.xlabel(\"Accuracy\", fontweight='bold', color = 'black', fontsize='20')\n",
    "plt.title(\"Accuracy on changing train, test ratio in Decison Tree\", fontweight='bold', color = 'red', fontsize='24')\n",
    "plt.show()"
   ]
  },
  {
   "cell_type": "markdown",
   "id": "0097a122",
   "metadata": {},
   "source": [
    "### Changing the parameter: criterion- entropy, gini"
   ]
  },
  {
   "cell_type": "code",
   "execution_count": 465,
   "id": "a739eacb",
   "metadata": {},
   "outputs": [],
   "source": [
    "x = data.iloc[:,:-1]\n",
    "y = data.iloc[:,-1]\n",
    "x_scaling = StandardScaler().fit_transform(x)\n",
    "x_train, x_test, y_train, y_test = train_test_split(x_scaling, y, test_size=0.3)"
   ]
  },
  {
   "cell_type": "code",
   "execution_count": 466,
   "id": "0f91b5d5",
   "metadata": {
    "scrolled": true
   },
   "outputs": [
    {
     "name": "stdout",
     "output_type": "stream",
     "text": [
      "Accuracy using ID3 = 63.58087487283826\n"
     ]
    }
   ],
   "source": [
    "hp1=DecisionTreeClassifier(criterion='entropy', max_depth=3, random_state=0).fit(x_train,y_train)\n",
    "y_pred_hp1 = hp1.predict(x_test)\n",
    "print('Accuracy using ID3 = {}'.format(accuracy_score(y_test,y_pred_hp1)*100))"
   ]
  },
  {
   "cell_type": "code",
   "execution_count": 467,
   "id": "2ad3c075",
   "metadata": {},
   "outputs": [
    {
     "name": "stdout",
     "output_type": "stream",
     "text": [
      "Accuracy using CART = 64.08952187182095\n"
     ]
    }
   ],
   "source": [
    "hp2=DecisionTreeClassifier(criterion='gini', max_depth=3, random_state=0).fit(x_train,y_train)\n",
    "y_pred_hp2 = dt.predict(x_test)\n",
    "print('Accuracy using CART = {}'.format(accuracy_score(y_test,y_pred_hp2)*100))"
   ]
  },
  {
   "cell_type": "markdown",
   "id": "f2121466",
   "metadata": {},
   "source": [
    "### Changing the parameter: splitter-best, random"
   ]
  },
  {
   "cell_type": "code",
   "execution_count": 298,
   "id": "82adfb03",
   "metadata": {},
   "outputs": [
    {
     "name": "stdout",
     "output_type": "stream",
     "text": [
      "Accuracy using ID3 with best splitter = 62.4618514750763\n"
     ]
    }
   ],
   "source": [
    "hp3=DecisionTreeClassifier(criterion='entropy',splitter='best', max_depth=3, random_state=0).fit(x_train,y_train)\n",
    "y_pred_hp3 = hp3.predict(x_test)\n",
    "print('Accuracy using ID3 with best splitter = {}'.format(accuracy_score(y_test,y_pred_hp3)*100))"
   ]
  },
  {
   "cell_type": "code",
   "execution_count": 299,
   "id": "8f501d15",
   "metadata": {},
   "outputs": [
    {
     "name": "stdout",
     "output_type": "stream",
     "text": [
      "Accuracy using ID3 with random splitter = 60.32553407934893\n"
     ]
    }
   ],
   "source": [
    "hp4=DecisionTreeClassifier(criterion='entropy',splitter='random', max_depth=3, random_state=0).fit(x_train,y_train)\n",
    "y_pred_hp4 = hp4.predict(x_test)\n",
    "print('Accuracy using ID3 with random splitter = {}'.format(accuracy_score(y_test,y_pred_hp4)*100))"
   ]
  },
  {
   "cell_type": "code",
   "execution_count": 300,
   "id": "13af5c46",
   "metadata": {},
   "outputs": [
    {
     "name": "stdout",
     "output_type": "stream",
     "text": [
      "Accuracy using CART with best splitter  = 62.4618514750763\n"
     ]
    }
   ],
   "source": [
    "hp5=DecisionTreeClassifier(criterion='gini',splitter='best', max_depth=3, random_state=0).fit(x_train,y_train)\n",
    "y_pred_hp5 = hp5.predict(x_test)\n",
    "print('Accuracy using CART with best splitter  = {}'.format(accuracy_score(y_test,y_pred_hp5)*100))"
   ]
  },
  {
   "cell_type": "code",
   "execution_count": 301,
   "id": "0f369aae",
   "metadata": {},
   "outputs": [
    {
     "name": "stdout",
     "output_type": "stream",
     "text": [
      "Accuracy using CART with random splitter  = 59.91861648016277\n"
     ]
    }
   ],
   "source": [
    "hp6=DecisionTreeClassifier(criterion='gini',splitter='random', max_depth=3, random_state=0).fit(x_train,y_train)\n",
    "y_pred_hp6 = hp6.predict(x_test)\n",
    "print('Accuracy using CART with random splitter  = {}'.format(accuracy_score(y_test,y_pred_hp6)*100))"
   ]
  },
  {
   "cell_type": "markdown",
   "id": "eae4c626",
   "metadata": {},
   "source": [
    "### Changing the parameter: max_depth"
   ]
  },
  {
   "cell_type": "code",
   "execution_count": 302,
   "id": "f5a66b07",
   "metadata": {},
   "outputs": [
    {
     "name": "stdout",
     "output_type": "stream",
     "text": [
      "Accuracy using ID3 with max_depth 4 = 62.86876907426247\n"
     ]
    }
   ],
   "source": [
    "hp7=DecisionTreeClassifier(criterion='entropy', max_depth=4, random_state=0).fit(x_train,y_train)\n",
    "y_pred_hp7 = hp7.predict(x_test)\n",
    "print('Accuracy using ID3 with max_depth 4 = {}'.format(accuracy_score(y_test,y_pred_hp7)*100))"
   ]
  },
  {
   "cell_type": "code",
   "execution_count": 303,
   "id": "39375736",
   "metadata": {},
   "outputs": [
    {
     "name": "stdout",
     "output_type": "stream",
     "text": [
      "Accuracy using ID3 with max_depth 5 = 62.360122075279754\n"
     ]
    }
   ],
   "source": [
    "hp8=DecisionTreeClassifier(criterion='entropy', max_depth=5, random_state=0).fit(x_train,y_train)\n",
    "y_pred_hp8 = hp8.predict(x_test)\n",
    "print('Accuracy using ID3 with max_depth 5 = {}'.format(accuracy_score(y_test,y_pred_hp8)*100))"
   ]
  },
  {
   "cell_type": "code",
   "execution_count": 304,
   "id": "96f1f312",
   "metadata": {},
   "outputs": [
    {
     "name": "stdout",
     "output_type": "stream",
     "text": [
      "Accuracy using ID3 with max_depth 6 = 62.76703967446592\n"
     ]
    }
   ],
   "source": [
    "hp9=DecisionTreeClassifier(criterion='entropy', max_depth=6, random_state=0).fit(x_train,y_train)\n",
    "y_pred_hp9 = hp9.predict(x_test)\n",
    "print('Accuracy using ID3 with max_depth 6 = {}'.format(accuracy_score(y_test,y_pred_hp9)*100))"
   ]
  },
  {
   "cell_type": "code",
   "execution_count": 305,
   "id": "003743f2",
   "metadata": {},
   "outputs": [
    {
     "name": "stdout",
     "output_type": "stream",
     "text": [
      "Accuracy using CART with max_depth 4 = 63.68260427263479\n"
     ]
    }
   ],
   "source": [
    "hp10=DecisionTreeClassifier(criterion='gini', max_depth=4, random_state=0).fit(x_train,y_train)\n",
    "y_pred_hp10 = hp10.predict(x_test)\n",
    "print('Accuracy using CART with max_depth 4 = {}'.format(accuracy_score(y_test,y_pred_hp10)*100))"
   ]
  },
  {
   "cell_type": "code",
   "execution_count": 306,
   "id": "daec1a93",
   "metadata": {},
   "outputs": [
    {
     "name": "stdout",
     "output_type": "stream",
     "text": [
      "Accuracy using CART with max_depth 5 = 61.953204476093596\n"
     ]
    }
   ],
   "source": [
    "hp11=DecisionTreeClassifier(criterion='gini', max_depth=5, random_state=0).fit(x_train,y_train)\n",
    "y_pred_hp11 = hp11.predict(x_test)\n",
    "print('Accuracy using CART with max_depth 5 = {}'.format(accuracy_score(y_test,y_pred_hp11)*100))"
   ]
  },
  {
   "cell_type": "code",
   "execution_count": 307,
   "id": "a3d521f5",
   "metadata": {},
   "outputs": [
    {
     "name": "stdout",
     "output_type": "stream",
     "text": [
      "Accuracy using CART with max_depth 6 = 62.156663275686675\n"
     ]
    }
   ],
   "source": [
    "hp12=DecisionTreeClassifier(criterion='gini', max_depth=6, random_state=0).fit(x_train,y_train)\n",
    "y_pred_hp12 = hp12.predict(x_test)\n",
    "print('Accuracy using CART with max_depth 6 = {}'.format(accuracy_score(y_test,y_pred_hp12)*100))"
   ]
  },
  {
   "cell_type": "code",
   "execution_count": 308,
   "id": "7ebda00f",
   "metadata": {},
   "outputs": [
    {
     "data": {
      "image/png": "[encoded data removed]",
      "text/plain": [
       "<Figure size 1080x720 with 1 Axes>"
      ]
     },
     "metadata": {
      "needs_background": "light"
     },
     "output_type": "display_data"
    }
   ],
   "source": [
    "import matplotlib.pyplot as plt\n",
    "plt.figure(figsize=(15,10))\n",
    "y=['Accuracy using ID3',\n",
    "   'Accuracy using CART',\n",
    "   'Accuracy using ID3 with best splitter',\n",
    "   'Accuracy using ID3 with random splitter',\n",
    "   'Accuracy using CART with best splitter',\n",
    "   'Accuracy using CART with random splitter',\n",
    "   'Accuracy using ID3 with max_depth 4',\n",
    "   'Accuracy using ID3 with max_depth 5',\n",
    "   'Accuracy using ID3 with max_depth 6',\n",
    "   'Accuracy using CART with max_depth 4',\n",
    "   'Accuracy using CART with max_depth 5',\n",
    "   'Accuracy using CART with max_depth 6']\n",
    " \n",
    "# getting values against each value of y\n",
    "x=[accuracy_score(y_test,y_pred_hp1)*100,\n",
    "  accuracy_score(y_test,y_pred_hp2)*100,\n",
    "  accuracy_score(y_test,y_pred_hp3)*100,\n",
    "  accuracy_score(y_test,y_pred_hp4)*100,\n",
    "  accuracy_score(y_test,y_pred_hp5)*100,\n",
    "  accuracy_score(y_test,y_pred_hp6)*100,\n",
    "  accuracy_score(y_test,y_pred_hp7)*100,\n",
    "  accuracy_score(y_test,y_pred_hp8)*100,\n",
    "  accuracy_score(y_test,y_pred_hp9)*100,\n",
    "  accuracy_score(y_test,y_pred_hp10)*100,\n",
    "  accuracy_score(y_test,y_pred_hp11)*100,\n",
    "  accuracy_score(y_test,y_pred_hp12)*100]\n",
    "plt.barh(y, x)\n",
    " \n",
    "# setting label of y-axis\n",
    "plt.ylabel(\"Tuning Parameters\", fontweight='bold', color = 'black', fontsize='20')\n",
    " \n",
    "# setting label of x-axis\n",
    "plt.xlabel(\"Accuracy\", fontweight='bold', color = 'black', fontsize='20')\n",
    "plt.title(\"Hyper Parameter Tuning of Decision Tree Classifier (70:30)\", fontweight='bold', color = 'red', fontsize='24')\n",
    "plt.show()"
   ]
  },
  {
   "cell_type": "markdown",
   "id": "f3e7d4fd",
   "metadata": {},
   "source": [
    "## Tuning Support Vector Machine"
   ]
  },
  {
   "cell_type": "code",
   "execution_count": 351,
   "id": "59ccc088",
   "metadata": {},
   "outputs": [],
   "source": [
    "x = data.iloc[:,:-1]\n",
    "y = data.iloc[:,-1]\n",
    "x_scaling = StandardScaler().fit_transform(x)"
   ]
  },
  {
   "cell_type": "markdown",
   "id": "4a5bac4b",
   "metadata": {},
   "source": [
    "### Changing the train, test ratio to analyse accuracy"
   ]
  },
  {
   "cell_type": "code",
   "execution_count": 362,
   "id": "6d319a8b",
   "metadata": {},
   "outputs": [
    {
     "data": {
      "text/plain": [
       "70.1219512195122"
      ]
     },
     "execution_count": 362,
     "metadata": {},
     "output_type": "execute_result"
    }
   ],
   "source": [
    "x_train, x_test, y_train, y_test = train_test_split(x_scaling, y, test_size=0.2)\n",
    "svc_rbf = SVC(kernel='rbf',degree=6).fit(x_train,y_train)\n",
    "y_pred_svc_rbf = svc_rbf.predict(x_test)\n",
    "svm1=accuracy_score(y_test,y_pred_svc_rbf)\n",
    "acc1=svm1*100\n",
    "acc1"
   ]
  },
  {
   "cell_type": "code",
   "execution_count": 363,
   "id": "a4d4f3fd",
   "metadata": {},
   "outputs": [
    {
     "data": {
      "text/plain": [
       "67.1414038657172"
      ]
     },
     "execution_count": 363,
     "metadata": {},
     "output_type": "execute_result"
    }
   ],
   "source": [
    "x_train, x_test, y_train, y_test = train_test_split(x_scaling, y, test_size=0.3)\n",
    "svc_rbf = SVC(kernel='rbf',degree=6).fit(x_train,y_train)\n",
    "y_pred_svc_rbf = svc_rbf.predict(x_test)\n",
    "svm2=accuracy_score(y_test,y_pred_svc_rbf)\n",
    "acc2=svm2*100\n",
    "acc2"
   ]
  },
  {
   "cell_type": "code",
   "execution_count": 364,
   "id": "fc179bbc",
   "metadata": {},
   "outputs": [
    {
     "data": {
      "text/plain": [
       "66.81922196796339"
      ]
     },
     "execution_count": 364,
     "metadata": {},
     "output_type": "execute_result"
    }
   ],
   "source": [
    "x_train, x_test, y_train, y_test = train_test_split(x_scaling, y, test_size=0.4)\n",
    "svc_rbf = SVC(kernel='rbf',degree=6).fit(x_train,y_train)\n",
    "y_pred_svc_rbf = svc_rbf.predict(x_test)\n",
    "svm3=accuracy_score(y_test,y_pred_svc_rbf)\n",
    "acc3=svm3*100\n",
    "acc3"
   ]
  },
  {
   "cell_type": "code",
   "execution_count": 365,
   "id": "18c820f7",
   "metadata": {},
   "outputs": [
    {
     "data": {
      "text/plain": [
       "65.56776556776556"
      ]
     },
     "execution_count": 365,
     "metadata": {},
     "output_type": "execute_result"
    }
   ],
   "source": [
    "x_train, x_test, y_train, y_test = train_test_split(x_scaling, y, test_size=0.5)\n",
    "svc_rbf = SVC(kernel='rbf',degree=6).fit(x_train,y_train)\n",
    "y_pred_svc_rbf = svc_rbf.predict(x_test)\n",
    "svm4=accuracy_score(y_test,y_pred_svc_rbf)\n",
    "acc4=svm4*100\n",
    "acc4"
   ]
  },
  {
   "cell_type": "code",
   "execution_count": 416,
   "id": "94096e35",
   "metadata": {},
   "outputs": [
    {
     "data": {
      "image/png": "[encoded data removed]",
      "text/plain": [
       "<Figure size 504x360 with 1 Axes>"
      ]
     },
     "metadata": {
      "needs_background": "light"
     },
     "output_type": "display_data"
    }
   ],
   "source": [
    "import matplotlib.pyplot as plt\n",
    "plt.figure(figsize=(7,5))\n",
    "y=['Accuracy (80:20)','Accuracy (70:30)', 'Accuracy (60:40)', 'Accuracy (50:50)']\n",
    " \n",
    "# getting values against each value of y\n",
    "x=[acc1, acc2, acc3, acc4]\n",
    "plt.bar(y, x)\n",
    " \n",
    "# setting label of y-axis\n",
    "plt.ylabel(\"Tuning Parameters\", fontweight='bold', color = 'black', fontsize='20')\n",
    " \n",
    "# setting label of x-axis\n",
    "plt.xlabel(\"Accuracy\", fontweight='bold', color = 'black', fontsize='20')\n",
    "plt.title(\"Accuracy on changing train, test ratio in SVC\", fontweight='bold', color = 'red', fontsize='24')\n",
    "plt.show()"
   ]
  },
  {
   "cell_type": "markdown",
   "id": "95ae3411",
   "metadata": {},
   "source": [
    "### Changing Kernels - rbf, poly, linear, sigmoid"
   ]
  },
  {
   "cell_type": "code",
   "execution_count": 324,
   "id": "981fd56e",
   "metadata": {},
   "outputs": [],
   "source": [
    "x = data.iloc[:,:-1]\n",
    "y = data.iloc[:,-1]\n",
    "x_scaling = StandardScaler().fit_transform(x)\n",
    "x_train, x_test, y_train, y_test = train_test_split(x_scaling, y, test_size=0.33)"
   ]
  },
  {
   "cell_type": "code",
   "execution_count": 325,
   "id": "398b1876",
   "metadata": {},
   "outputs": [
    {
     "name": "stdout",
     "output_type": "stream",
     "text": [
      "acc svc rbf = 68.8539741219963\n"
     ]
    }
   ],
   "source": [
    "svc_rbf = SVC(kernel='rbf',degree=6).fit(x_train,y_train)\n",
    "y_pred_svc_rbf = svc_rbf.predict(x_test)\n",
    "print('acc svc rbf = {}'.format(accuracy_score(y_test,y_pred_svc_rbf)*100))"
   ]
  },
  {
   "cell_type": "code",
   "execution_count": 326,
   "id": "5d7cf4f4",
   "metadata": {},
   "outputs": [
    {
     "name": "stdout",
     "output_type": "stream",
     "text": [
      "acc svc poly = 66.26617375231054\n"
     ]
    }
   ],
   "source": [
    "svc_poly = SVC(kernel='poly',degree=6).fit(x_train,y_train)\n",
    "y_pred_svc_poly = svc_poly.predict(x_test)\n",
    "print('acc svc poly = {}'.format(accuracy_score(y_test,y_pred_svc_poly)*100))"
   ]
  },
  {
   "cell_type": "code",
   "execution_count": 327,
   "id": "9bab0722",
   "metadata": {},
   "outputs": [
    {
     "name": "stdout",
     "output_type": "stream",
     "text": [
      "acc svc linear = 62.1996303142329\n"
     ]
    }
   ],
   "source": [
    "svc_linear = SVC(kernel='linear',degree=6).fit(x_train,y_train)\n",
    "y_pred_svc_linear = svc_linear.predict(x_test)\n",
    "print('acc svc linear = {}'.format(accuracy_score(y_test,y_pred_svc_linear)*100))"
   ]
  },
  {
   "cell_type": "code",
   "execution_count": 328,
   "id": "9da2025a",
   "metadata": {},
   "outputs": [
    {
     "name": "stdout",
     "output_type": "stream",
     "text": [
      "acc svc sigmoid = 52.957486136783736\n"
     ]
    }
   ],
   "source": [
    "svc_sigmoid = SVC(kernel='sigmoid',degree=6).fit(x_train,y_train)\n",
    "y_pred_svc_sigmoid = svc_sigmoid.predict(x_test)\n",
    "print('acc svc sigmoid = {}'.format(accuracy_score(y_test,y_pred_svc_sigmoid)*100))"
   ]
  },
  {
   "cell_type": "markdown",
   "id": "a44ac94a",
   "metadata": {},
   "source": [
    "### Changing degree of poly kernel"
   ]
  },
  {
   "cell_type": "code",
   "execution_count": 329,
   "id": "37ed12fe",
   "metadata": {},
   "outputs": [
    {
     "name": "stdout",
     "output_type": "stream",
     "text": [
      "acc svc poly degree 3 = 63.67837338262476\n"
     ]
    }
   ],
   "source": [
    "svc_poly_d3 = SVC(kernel='poly',degree=3).fit(x_train,y_train)\n",
    "y_pred_svc_poly_d3 = svc_poly_d3.predict(x_test)\n",
    "print('acc svc poly degree 3 = {}'.format(accuracy_score(y_test,y_pred_svc_poly_d3)*100))"
   ]
  },
  {
   "cell_type": "code",
   "execution_count": 330,
   "id": "5fca286c",
   "metadata": {},
   "outputs": [
    {
     "name": "stdout",
     "output_type": "stream",
     "text": [
      "acc svc poly degree 4 = 67.8373382624769\n"
     ]
    }
   ],
   "source": [
    "svc_poly_d4 = SVC(kernel='poly',degree=4).fit(x_train,y_train)\n",
    "y_pred_svc_poly_d4 = svc_poly_d4.predict(x_test)\n",
    "print('acc svc poly degree 4 = {}'.format(accuracy_score(y_test,y_pred_svc_poly_d4)*100))"
   ]
  },
  {
   "cell_type": "code",
   "execution_count": 331,
   "id": "bdcb8f5c",
   "metadata": {},
   "outputs": [
    {
     "name": "stdout",
     "output_type": "stream",
     "text": [
      "acc svc poly degree 5 = 62.47689463955638\n"
     ]
    }
   ],
   "source": [
    "svc_poly_d5 = SVC(kernel='poly',degree=5).fit(x_train,y_train)\n",
    "y_pred_svc_poly_d5 = svc_poly_d5.predict(x_test)\n",
    "print('acc svc poly degree 5 = {}'.format(accuracy_score(y_test,y_pred_svc_poly_d5)*100))"
   ]
  },
  {
   "cell_type": "code",
   "execution_count": 332,
   "id": "eff3fd3f",
   "metadata": {},
   "outputs": [
    {
     "name": "stdout",
     "output_type": "stream",
     "text": [
      "acc svc poly degree 6 = 66.26617375231054\n"
     ]
    }
   ],
   "source": [
    "svc_poly_d6 = SVC(kernel='poly',degree=6).fit(x_train,y_train)\n",
    "y_pred_svc_poly_d6 = svc_poly_d6.predict(x_test)\n",
    "print('acc svc poly degree 6 = {}'.format(accuracy_score(y_test,y_pred_svc_poly_d6)*100))"
   ]
  },
  {
   "cell_type": "code",
   "execution_count": 333,
   "id": "c5f61e0b",
   "metadata": {},
   "outputs": [
    {
     "name": "stdout",
     "output_type": "stream",
     "text": [
      "acc svc poly degree 7 = 62.84658040665434\n"
     ]
    }
   ],
   "source": [
    "svc_poly_d7 = SVC(kernel='poly',degree=7).fit(x_train,y_train)\n",
    "y_pred_svc_poly_d7 = svc_poly_d7.predict(x_test)\n",
    "print('acc svc poly degree 7 = {}'.format(accuracy_score(y_test,y_pred_svc_poly_d7)*100))"
   ]
  },
  {
   "cell_type": "code",
   "execution_count": 334,
   "id": "ce2e1a9a",
   "metadata": {},
   "outputs": [
    {
     "name": "stdout",
     "output_type": "stream",
     "text": [
      "acc svc poly degree 8 = 64.04805914972273\n"
     ]
    }
   ],
   "source": [
    "svc_poly_d8 = SVC(kernel='poly',degree=8).fit(x_train,y_train)\n",
    "y_pred_svc_poly_d8 = svc_poly_d8.predict(x_test)\n",
    "print('acc svc poly degree 8 = {}'.format(accuracy_score(y_test,y_pred_svc_poly_d8)*100))"
   ]
  },
  {
   "cell_type": "code",
   "execution_count": 335,
   "id": "44808207",
   "metadata": {},
   "outputs": [
    {
     "name": "stdout",
     "output_type": "stream",
     "text": [
      "acc svc poly degree 9 = 63.03142329020333\n"
     ]
    }
   ],
   "source": [
    "svc_poly_d9 = SVC(kernel='poly',degree=9).fit(x_train,y_train)\n",
    "y_pred_svc_poly_d9 = svc_poly_d9.predict(x_test)\n",
    "print('acc svc poly degree 9 = {}'.format(accuracy_score(y_test,y_pred_svc_poly_d9)*100))"
   ]
  },
  {
   "cell_type": "markdown",
   "id": "f02684b8",
   "metadata": {},
   "source": [
    "### Changing degree of rbf kernel"
   ]
  },
  {
   "cell_type": "code",
   "execution_count": 370,
   "id": "4905ac35",
   "metadata": {},
   "outputs": [
    {
     "name": "stdout",
     "output_type": "stream",
     "text": [
      "acc svc rbf with degree 4 = 65.56776556776556\n"
     ]
    }
   ],
   "source": [
    "svc_rbf_d4 = SVC(kernel='rbf',degree=4).fit(x_train,y_train)\n",
    "y_pred_svc_rbf_d4 = svc_rbf_d4.predict(x_test)\n",
    "print('acc svc rbf with degree 4 = {}'.format(accuracy_score(y_test,y_pred_svc_rbf_d4)*100))"
   ]
  },
  {
   "cell_type": "code",
   "execution_count": 371,
   "id": "18b1c22d",
   "metadata": {},
   "outputs": [
    {
     "name": "stdout",
     "output_type": "stream",
     "text": [
      "acc svc rbf with degree 5 = 65.56776556776556\n"
     ]
    }
   ],
   "source": [
    "svc_rbf_d5 = SVC(kernel='rbf',degree=5).fit(x_train,y_train)\n",
    "y_pred_svc_rbf_d5 = svc_rbf_d5.predict(x_test)\n",
    "print('acc svc rbf with degree 5 = {}'.format(accuracy_score(y_test,y_pred_svc_rbf_d5)*100))"
   ]
  },
  {
   "cell_type": "code",
   "execution_count": 372,
   "id": "77ee5167",
   "metadata": {},
   "outputs": [
    {
     "name": "stdout",
     "output_type": "stream",
     "text": [
      "acc svc rbf with degree 6 = 65.56776556776556\n"
     ]
    }
   ],
   "source": [
    "svc_rbf_d6 = SVC(kernel='rbf',degree=6).fit(x_train,y_train)\n",
    "y_pred_svc_rbf_d6 = svc_rbf_d6.predict(x_test)\n",
    "print('acc svc rbf with degree 6 = {}'.format(accuracy_score(y_test,y_pred_svc_rbf_d6)*100))"
   ]
  },
  {
   "cell_type": "code",
   "execution_count": 347,
   "id": "563c7261",
   "metadata": {},
   "outputs": [
    {
     "data": {
      "image/png": "[encoded data removed]",
      "text/plain": [
       "<Figure size 1080x720 with 1 Axes>"
      ]
     },
     "metadata": {
      "needs_background": "light"
     },
     "output_type": "display_data"
    }
   ],
   "source": [
    "import matplotlib.pyplot as plt\n",
    "plt.figure(figsize=(15,10))\n",
    "y=['acc svc rbf',\n",
    "   'acc svc poly',\n",
    "   'acc svc linear',\n",
    "   'acc svc sigmoid',\n",
    "   'acc svc poly degree 3',\n",
    "   'acc svc poly degree 4',\n",
    "   'acc svc poly degree 5',\n",
    "   'acc svc poly degree 6',\n",
    "   'acc svc poly degree 7',\n",
    "   'acc svc poly degree 8',\n",
    "   'acc svc poly degree 9'\n",
    "  ]\n",
    " \n",
    "# getting values against each value of y\n",
    "x=[accuracy_score(y_test,y_pred_svc_rbf)*100,\n",
    "   accuracy_score(y_test,y_pred_svc_poly)*100,\n",
    "   accuracy_score(y_test,y_pred_svc_linear)*100,\n",
    "   accuracy_score(y_test,y_pred_svc_sigmoid)*100,\n",
    "   accuracy_score(y_test,y_pred_svc_poly_d3)*100,\n",
    "   accuracy_score(y_test,y_pred_svc_poly_d4)*100,\n",
    "   accuracy_score(y_test,y_pred_svc_poly_d5)*100,\n",
    "   accuracy_score(y_test,y_pred_svc_poly_d6)*100,\n",
    "   accuracy_score(y_test,y_pred_svc_poly_d7)*100,\n",
    "   accuracy_score(y_test,y_pred_svc_poly_d8)*100,\n",
    "   accuracy_score(y_test,y_pred_svc_poly_d9)*100\n",
    "  ]\n",
    "plt.barh(y, x)\n",
    " \n",
    "# setting label of y-axis\n",
    "plt.ylabel(\"Tuning Parameters\", fontweight='bold', color = 'black', fontsize='20')\n",
    " \n",
    "# setting label of x-axis\n",
    "plt.xlabel(\"Accuracy\", fontweight='bold', color = 'black', fontsize='20')\n",
    "plt.title(\"Hyper Parameter Tuning of SVC (70:30)\", fontweight='bold', color = 'red', fontsize='24')\n",
    "plt.show()"
   ]
  },
  {
   "cell_type": "markdown",
   "id": "79a65504",
   "metadata": {},
   "source": [
    "## Tuning Random Forest Classifier"
   ]
  },
  {
   "cell_type": "markdown",
   "id": "635b7941",
   "metadata": {},
   "source": [
    "### Changing train, test ratio and observing the change in accuracy"
   ]
  },
  {
   "cell_type": "code",
   "execution_count": 407,
   "id": "eaae6ba2",
   "metadata": {},
   "outputs": [],
   "source": [
    "x = data.iloc[:,:-1]\n",
    "y = data.iloc[:,-1]\n",
    "x_scaling = StandardScaler().fit_transform(x)"
   ]
  },
  {
   "cell_type": "code",
   "execution_count": 408,
   "id": "959426f3",
   "metadata": {},
   "outputs": [
    {
     "data": {
      "text/plain": [
       "66.3109756097561"
      ]
     },
     "execution_count": 408,
     "metadata": {},
     "output_type": "execute_result"
    }
   ],
   "source": [
    "x_train, x_test, y_train, y_test = train_test_split(x_scaling, y, test_size=0.2)\n",
    "rf = RandomForestClassifier(criterion='gini',max_depth=10, random_state=0).fit(x_train,y_train)\n",
    "y_pred_rf = rf.predict(x_test) \n",
    "rfacc1=accuracy_score(y_test,y_pred_rf)*100\n",
    "rfacc1"
   ]
  },
  {
   "cell_type": "code",
   "execution_count": 409,
   "id": "dabe1007",
   "metadata": {},
   "outputs": [
    {
     "data": {
      "text/plain": [
       "64.80162767039674"
      ]
     },
     "execution_count": 409,
     "metadata": {},
     "output_type": "execute_result"
    }
   ],
   "source": [
    "x_train, x_test, y_train, y_test = train_test_split(x_scaling, y, test_size=0.3)\n",
    "rf = RandomForestClassifier(criterion='gini',max_depth=10, random_state=0).fit(x_train,y_train)\n",
    "y_pred_rf = rf.predict(x_test) \n",
    "rfacc2=accuracy_score(y_test,y_pred_rf)*100\n",
    "rfacc2"
   ]
  },
  {
   "cell_type": "code",
   "execution_count": 410,
   "id": "62de6deb",
   "metadata": {},
   "outputs": [
    {
     "data": {
      "text/plain": [
       "66.28527841342486"
      ]
     },
     "execution_count": 410,
     "metadata": {},
     "output_type": "execute_result"
    }
   ],
   "source": [
    "x_train, x_test, y_train, y_test = train_test_split(x_scaling, y, test_size=0.4)\n",
    "rf = RandomForestClassifier(criterion='gini',max_depth=10, random_state=0).fit(x_train,y_train)\n",
    "y_pred_rf = rf.predict(x_test) \n",
    "rfacc3=accuracy_score(y_test,y_pred_rf)*100\n",
    "rfacc3"
   ]
  },
  {
   "cell_type": "code",
   "execution_count": 411,
   "id": "8114eefe",
   "metadata": {},
   "outputs": [
    {
     "data": {
      "text/plain": [
       "65.995115995116"
      ]
     },
     "execution_count": 411,
     "metadata": {},
     "output_type": "execute_result"
    }
   ],
   "source": [
    "x_train, x_test, y_train, y_test = train_test_split(x_scaling, y, test_size=0.5)\n",
    "rf = RandomForestClassifier(criterion='gini',max_depth=10, random_state=0).fit(x_train,y_train)\n",
    "y_pred_rf = rf.predict(x_test) \n",
    "rfacc4=accuracy_score(y_test,y_pred_rf)*100\n",
    "rfacc4"
   ]
  },
  {
   "cell_type": "code",
   "execution_count": 415,
   "id": "73dcf8ea",
   "metadata": {},
   "outputs": [
    {
     "data": {
      "image/png": "[encoded data removed]",
      "text/plain": [
       "<Figure size 504x360 with 1 Axes>"
      ]
     },
     "metadata": {
      "needs_background": "light"
     },
     "output_type": "display_data"
    }
   ],
   "source": [
    "import matplotlib.pyplot as plt\n",
    "plt.figure(figsize=(7,5))\n",
    "y=['Accuracy (80:20)','Accuracy (70:30)', 'Accuracy (60:40)', 'Accuracy (50:50)']\n",
    " \n",
    "# getting values against each value of y\n",
    "x=[rfacc1, rfacc2, rfacc3, rfacc4]\n",
    "plt.bar(y, x)\n",
    " \n",
    "# setting label of y-axis\n",
    "plt.ylabel(\"Tuning Parameters\", fontweight='bold', color = 'black', fontsize='20')\n",
    " \n",
    "# setting label of x-axis\n",
    "plt.xlabel(\"Accuracy\", fontweight='bold', color = 'black', fontsize='20')\n",
    "plt.title(\"Accuracy on changing train, test ratio in RFC\", fontweight='bold', color = 'red', fontsize='24')\n",
    "plt.show()"
   ]
  },
  {
   "cell_type": "markdown",
   "id": "ae0c83ae",
   "metadata": {},
   "source": [
    "### Changing the parameters to observe its effect on accuracy of the model"
   ]
  },
  {
   "cell_type": "code",
   "execution_count": 468,
   "id": "5c55b793",
   "metadata": {},
   "outputs": [],
   "source": [
    "x = data.iloc[:,:-1]\n",
    "y = data.iloc[:,-1]\n",
    "x_scaling = StandardScaler().fit_transform(x)\n",
    "x_train, x_test, y_train, y_test = train_test_split(x_scaling, y, test_size=0.3)"
   ]
  },
  {
   "cell_type": "markdown",
   "id": "56b1df97",
   "metadata": {},
   "source": [
    "#### Changing the criterion parameter: gini and entropy"
   ]
  },
  {
   "cell_type": "code",
   "execution_count": 469,
   "id": "50e542eb",
   "metadata": {},
   "outputs": [
    {
     "name": "stdout",
     "output_type": "stream",
     "text": [
      "acc rf = 65.81892166836215\n"
     ]
    }
   ],
   "source": [
    "rf = RandomForestClassifier(criterion='gini',max_depth=10, random_state=0).fit(x_train,y_train)\n",
    "y_pred_rf1 = rf.predict(x_test) \n",
    "print('acc rf with criterion: gini index = {}'.format(accuracy_score(y_test,y_pred_rf1)*100))"
   ]
  },
  {
   "cell_type": "code",
   "execution_count": 470,
   "id": "bea86314",
   "metadata": {},
   "outputs": [
    {
     "name": "stdout",
     "output_type": "stream",
     "text": [
      "acc rf with criterion: entropy = 66.53102746693794\n"
     ]
    }
   ],
   "source": [
    "rf = RandomForestClassifier(criterion='entropy',max_depth=10, random_state=0).fit(x_train,y_train)\n",
    "y_pred_rf2 = rf.predict(x_test) \n",
    "print('acc rf with criterion: entropy = {}'.format(accuracy_score(y_test,y_pred_rf2)*100))"
   ]
  },
  {
   "cell_type": "markdown",
   "id": "22dc0ef7",
   "metadata": {},
   "source": [
    "#### Changing the max depth of the tree and analysing the accuracy"
   ]
  },
  {
   "cell_type": "code",
   "execution_count": 472,
   "id": "ffab2130",
   "metadata": {},
   "outputs": [
    {
     "name": "stdout",
     "output_type": "stream",
     "text": [
      "acc rf with gini and depth:15 = 65.92065106815869\n"
     ]
    }
   ],
   "source": [
    "rf = RandomForestClassifier(criterion='gini',max_depth=15, random_state=0).fit(x_train,y_train)\n",
    "y_pred_rf3 = rf.predict(x_test) \n",
    "print('acc rf with gini and depth:15 = {}'.format(accuracy_score(y_test,y_pred_rf3)*100))"
   ]
  },
  {
   "cell_type": "code",
   "execution_count": 473,
   "id": "cf8d99bf",
   "metadata": {},
   "outputs": [
    {
     "name": "stdout",
     "output_type": "stream",
     "text": [
      "acc rf with gini and depth: 20 = 66.32756866734486\n"
     ]
    }
   ],
   "source": [
    "rf = RandomForestClassifier(criterion='gini',max_depth=20, random_state=0).fit(x_train,y_train)\n",
    "y_pred_rf4 = rf.predict(x_test) \n",
    "print('acc rf with gini and depth: 20 = {}'.format(accuracy_score(y_test,y_pred_rf4)*100))"
   ]
  },
  {
   "cell_type": "code",
   "execution_count": 474,
   "id": "ab0f169b",
   "metadata": {},
   "outputs": [
    {
     "name": "stdout",
     "output_type": "stream",
     "text": [
      "acc rf with gini and depth: 25 = 66.4292980671414\n"
     ]
    }
   ],
   "source": [
    "rf = RandomForestClassifier(criterion='gini',max_depth=25, random_state=0).fit(x_train,y_train)\n",
    "y_pred_rf5 = rf.predict(x_test) \n",
    "print('acc rf with gini and depth: 25 = {}'.format(accuracy_score(y_test,y_pred_rf5)*100))"
   ]
  },
  {
   "cell_type": "code",
   "execution_count": 475,
   "id": "32d55cc2",
   "metadata": {},
   "outputs": [
    {
     "name": "stdout",
     "output_type": "stream",
     "text": [
      "acc rf with gini and depth: 30 = 66.63275686673448\n"
     ]
    }
   ],
   "source": [
    "rf = RandomForestClassifier(criterion='gini',max_depth=30, random_state=0).fit(x_train,y_train)\n",
    "y_pred_rf6 = rf.predict(x_test) \n",
    "print('acc rf with gini and depth: 30 = {}'.format(accuracy_score(y_test,y_pred_rf6)*100))"
   ]
  },
  {
   "cell_type": "code",
   "execution_count": 477,
   "id": "c0b16663",
   "metadata": {},
   "outputs": [
    {
     "name": "stdout",
     "output_type": "stream",
     "text": [
      "acc rf with gini and depth: 35 = 66.12410986775178\n"
     ]
    }
   ],
   "source": [
    "rf = RandomForestClassifier(criterion='entropy',max_depth=35, random_state=0).fit(x_train,y_train)\n",
    "y_pred_rf7 = rf.predict(x_test) \n",
    "print('acc rf with gini and depth: 35 = {}'.format(accuracy_score(y_test,y_pred_rf7)*100))"
   ]
  },
  {
   "cell_type": "code",
   "execution_count": 478,
   "id": "453ad7ba",
   "metadata": {},
   "outputs": [
    {
     "name": "stdout",
     "output_type": "stream",
     "text": [
      "acc rf with entropy and depth:15 = 66.32756866734486\n"
     ]
    }
   ],
   "source": [
    "rf = RandomForestClassifier(criterion='entropy',max_depth=15, random_state=0).fit(x_train,y_train)\n",
    "y_pred_rf8 = rf.predict(x_test) \n",
    "print('acc rf with entropy and depth:15 = {}'.format(accuracy_score(y_test,y_pred_rf8)*100))"
   ]
  },
  {
   "cell_type": "code",
   "execution_count": 479,
   "id": "52b1af2c",
   "metadata": {},
   "outputs": [
    {
     "name": "stdout",
     "output_type": "stream",
     "text": [
      "acc rf with entropy and depth: 20 = 66.02238046795524\n"
     ]
    }
   ],
   "source": [
    "rf = RandomForestClassifier(criterion='entropy',max_depth=20, random_state=0).fit(x_train,y_train)\n",
    "y_pred_rf9 = rf.predict(x_test) \n",
    "print('acc rf with entropy and depth: 20 = {}'.format(accuracy_score(y_test,y_pred_rf9)*100))"
   ]
  },
  {
   "cell_type": "code",
   "execution_count": 480,
   "id": "85779a4b",
   "metadata": {},
   "outputs": [
    {
     "name": "stdout",
     "output_type": "stream",
     "text": [
      "acc rf with entropy and depth: 25 = 66.73448626653102\n"
     ]
    }
   ],
   "source": [
    "rf = RandomForestClassifier(criterion='entropy',max_depth=25, random_state=0).fit(x_train,y_train)\n",
    "y_pred_rf10 = rf.predict(x_test) \n",
    "print('acc rf with entropy and depth: 25 = {}'.format(accuracy_score(y_test,y_pred_rf10)*100))"
   ]
  },
  {
   "cell_type": "code",
   "execution_count": 481,
   "id": "c0f0c739",
   "metadata": {},
   "outputs": [
    {
     "name": "stdout",
     "output_type": "stream",
     "text": [
      "acc rf with entropy and depth: 30 = 67.54832146490337\n"
     ]
    }
   ],
   "source": [
    "rf = RandomForestClassifier(criterion='entropy',max_depth=30, random_state=0).fit(x_train,y_train)\n",
    "y_pred_rf11 = rf.predict(x_test) \n",
    "print('acc rf with entropy and depth: 30 = {}'.format(accuracy_score(y_test,y_pred_rf11)*100))"
   ]
  },
  {
   "cell_type": "code",
   "execution_count": 482,
   "id": "55971025",
   "metadata": {},
   "outputs": [
    {
     "name": "stdout",
     "output_type": "stream",
     "text": [
      "acc rf with entropy and depth: 35 = 66.12410986775178\n"
     ]
    }
   ],
   "source": [
    "rf = RandomForestClassifier(criterion='entropy',max_depth=35, random_state=0).fit(x_train,y_train)\n",
    "y_pred_rf12 = rf.predict(x_test) \n",
    "print('acc rf with entropy and depth: 35 = {}'.format(accuracy_score(y_test,y_pred_rf12)*100))"
   ]
  },
  {
   "cell_type": "code",
   "execution_count": 484,
   "id": "258e162f",
   "metadata": {},
   "outputs": [
    {
     "data": {
      "image/png": "[encoded data removed]",
      "text/plain": [
       "<Figure size 1080x720 with 1 Axes>"
      ]
     },
     "metadata": {
      "needs_background": "light"
     },
     "output_type": "display_data"
    }
   ],
   "source": [
    "import matplotlib.pyplot as plt\n",
    "plt.figure(figsize=(15,10))\n",
    "y=['acc rf with criterion: gini index',\n",
    "   'acc rf with criterion: entropy',\n",
    "   'acc rf with gini and depth:15',\n",
    "   'acc rf with gini and depth: 20',\n",
    "   'acc rf with gini and depth: 25',\n",
    "   'acc rf with gini and depth: 30',\n",
    "   'acc rf with gini and depth: 35',\n",
    "   'acc rf with entropy and depth:15',\n",
    "   'acc rf with entropy and depth:20',\n",
    "   'acc rf with entropy and depth:25',\n",
    "   'acc rf with entropy and depth:30',\n",
    "   'acc rf with entropy and depth:35'\n",
    "  ]\n",
    " \n",
    "# getting values against each value of y\n",
    "x=[accuracy_score(y_test,y_pred_rf1)*100,\n",
    "   accuracy_score(y_test,y_pred_rf2)*100,\n",
    "   accuracy_score(y_test,y_pred_rf3)*100,\n",
    "   accuracy_score(y_test,y_pred_rf4)*100,\n",
    "   accuracy_score(y_test,y_pred_rf5)*100,\n",
    "   accuracy_score(y_test,y_pred_rf6)*100,\n",
    "   accuracy_score(y_test,y_pred_rf7)*100,\n",
    "   accuracy_score(y_test,y_pred_rf8)*100,\n",
    "   accuracy_score(y_test,y_pred_rf9)*100,\n",
    "   accuracy_score(y_test,y_pred_rf10)*100,\n",
    "   accuracy_score(y_test,y_pred_rf11)*100,\n",
    "   accuracy_score(y_test,y_pred_rf12)*100\n",
    "  ]\n",
    "plt.barh(y, x)\n",
    " \n",
    "# setting label of y-axis\n",
    "plt.ylabel(\"Tuning Parameters\", fontweight='bold', color = 'black', fontsize='20')\n",
    " \n",
    "# setting label of x-axis\n",
    "plt.xlabel(\"Accuracy\", fontweight='bold', color = 'black', fontsize='20')\n",
    "plt.title(\"Hyper Parameter Tuning of RF (70:30)\", fontweight='bold', color = 'red', fontsize='24')\n",
    "plt.show()"
   ]
  },
  {
   "cell_type": "code",
   "execution_count": null,
   "id": "a81146d9",
   "metadata": {},
   "outputs": [],
   "source": []
  }
 ],
 "metadata": {
  "kernelspec": {
   "display_name": "Python 3",
   "language": "python",
   "name": "python3"
  },
  "language_info": {
   "codemirror_mode": {
    "name": "ipython",
    "version": 3
   },
   "file_extension": ".py",
   "mimetype": "text/x-python",
   "name": "python",
   "nbconvert_exporter": "python",
   "pygments_lexer": "ipython3",
   "version": "3.8.8"
  }
 },
 "nbformat": 4,
 "nbformat_minor": 5
}
